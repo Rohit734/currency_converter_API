{
 "cells": [
  {
   "cell_type": "markdown",
   "id": "761b7f47",
   "metadata": {},
   "source": [
    "# TASK 2\n",
    "- Create a project that fetches data from a currency converter API.\n"
   ]
  },
  {
   "cell_type": "code",
   "execution_count": 21,
   "id": "5428d5e2",
   "metadata": {},
   "outputs": [],
   "source": [
    "import requests"
   ]
  },
  {
   "cell_type": "code",
   "execution_count": 2,
   "id": "b15cd24a",
   "metadata": {},
   "outputs": [],
   "source": [
    "API_KEY = 'fca_live_5tPkhZXhMPK5ACf9MeN1znYTxBs74jMvGVx7aU7e'\n",
    "BASE_URL = f'https://api.freecurrencyapi.com/v1/latest?apikey={API_KEY}'"
   ]
  },
  {
   "cell_type": "code",
   "execution_count": 3,
   "id": "253b2861",
   "metadata": {},
   "outputs": [],
   "source": [
    "respond = requests.get(BASE_URL)"
   ]
  },
  {
   "cell_type": "code",
   "execution_count": 4,
   "id": "41515d4a",
   "metadata": {},
   "outputs": [
    {
     "name": "stdout",
     "output_type": "stream",
     "text": [
      "List of currencies you can converter \n"
     ]
    },
    {
     "data": {
      "text/plain": [
       "['AUD',\n",
       " 'BGN',\n",
       " 'BRL',\n",
       " 'CAD',\n",
       " 'CHF',\n",
       " 'CNY',\n",
       " 'CZK',\n",
       " 'DKK',\n",
       " 'EUR',\n",
       " 'GBP',\n",
       " 'HKD',\n",
       " 'HRK',\n",
       " 'HUF',\n",
       " 'IDR',\n",
       " 'ILS',\n",
       " 'INR',\n",
       " 'ISK',\n",
       " 'JPY',\n",
       " 'KRW',\n",
       " 'MXN',\n",
       " 'MYR',\n",
       " 'NOK',\n",
       " 'NZD',\n",
       " 'PHP',\n",
       " 'PLN',\n",
       " 'RON',\n",
       " 'RUB',\n",
       " 'SEK',\n",
       " 'SGD',\n",
       " 'THB',\n",
       " 'TRY',\n",
       " 'USD',\n",
       " 'ZAR']"
      ]
     },
     "execution_count": 4,
     "metadata": {},
     "output_type": "execute_result"
    }
   ],
   "source": [
    "print('List of currencies you can converter ')\n",
    "list(respond.json()['data'].keys())"
   ]
  },
  {
   "cell_type": "code",
   "execution_count": 11,
   "id": "965c75d5",
   "metadata": {},
   "outputs": [
    {
     "name": "stdout",
     "output_type": "stream",
     "text": [
      "Enter base currency Example USD,INR : usd\n",
      "Enter currency Example CAD,INR, : npr\n",
      "Enter Amount you Want to Convert From USD to NPR : 100\n"
     ]
    }
   ],
   "source": [
    "base = input('Enter base currency Example USD,INR : ').upper().strip()\n",
    "cur = input('Enter currency Example CAD,INR, : ').upper().strip()\n",
    "Amount = float(input(f'Enter Amount you Want to Convert From {base} to {cur} : '))\n"
   ]
  },
  {
   "cell_type": "code",
   "execution_count": 12,
   "id": "83b529a0",
   "metadata": {},
   "outputs": [],
   "source": [
    "params = {\n",
    "    'currencies':cur,\n",
    "    'base_currency':base\n",
    "}"
   ]
  },
  {
   "cell_type": "code",
   "execution_count": 13,
   "id": "8d5483cf",
   "metadata": {},
   "outputs": [],
   "source": [
    "respond = requests.get(BASE_URL,params=params)"
   ]
  },
  {
   "cell_type": "code",
   "execution_count": 20,
   "id": "d1b6d5d4",
   "metadata": {},
   "outputs": [
    {
     "name": "stdout",
     "output_type": "stream",
     "text": [
      "The selected currencies is invalid.\n"
     ]
    }
   ],
   "source": [
    "if respond.status_code == 200:\n",
    "    data = respond.json()['data']\n",
    "    value = data[cur]\n",
    "    print(f'{cur} : {value}')\n",
    "    print(f'{Amount}{base} = {value*Amount:.2f} {cur}')\n",
    "else:\n",
    "    \n",
    "    print(respond.json()['errors']['currencies'][0])"
   ]
  },
  {
   "cell_type": "code",
   "execution_count": null,
   "id": "be06b9a1",
   "metadata": {},
   "outputs": [],
   "source": []
  }
 ],
 "metadata": {
  "kernelspec": {
   "display_name": "Python 3 (ipykernel)",
   "language": "python",
   "name": "python3"
  },
  "language_info": {
   "codemirror_mode": {
    "name": "ipython",
    "version": 3
   },
   "file_extension": ".py",
   "mimetype": "text/x-python",
   "name": "python",
   "nbconvert_exporter": "python",
   "pygments_lexer": "ipython3",
   "version": "3.11.5"
  }
 },
 "nbformat": 4,
 "nbformat_minor": 5
}
