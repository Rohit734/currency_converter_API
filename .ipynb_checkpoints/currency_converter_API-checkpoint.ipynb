{
 "cells": [
  {
   "cell_type": "markdown",
   "id": "761b7f47",
   "metadata": {},
   "source": [
    "# TASK 2\n",
    "- Create a project that fetches data from a currency converter API."
   ]
  },
  {
   "cell_type": "code",
   "execution_count": 2,
   "id": "968fff0d",
   "metadata": {},
   "outputs": [],
   "source": [
    "import requests\n"
   ]
  },
  {
   "cell_type": "code",
   "execution_count": null,
   "id": "b15cd24a",
   "metadata": {},
   "outputs": [],
   "source": [
    "API_KEY = \n",
    "https://api.freecurrencyapi.com/v1/latest?apikey=API_KEY&currencies=EUR&base_currency=BGN"
   ]
  }
 ],
 "metadata": {
  "kernelspec": {
   "display_name": "Python 3 (ipykernel)",
   "language": "python",
   "name": "python3"
  },
  "language_info": {
   "codemirror_mode": {
    "name": "ipython",
    "version": 3
   },
   "file_extension": ".py",
   "mimetype": "text/x-python",
   "name": "python",
   "nbconvert_exporter": "python",
   "pygments_lexer": "ipython3",
   "version": "3.11.5"
  }
 },
 "nbformat": 4,
 "nbformat_minor": 5
}
